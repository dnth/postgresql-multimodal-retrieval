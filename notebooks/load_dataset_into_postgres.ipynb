{
 "cells": [
  {
   "cell_type": "code",
   "execution_count": 1,
   "metadata": {},
   "outputs": [],
   "source": [
    "import datasets\n",
    "\n",
    "dataset = datasets.load_dataset(\"wanghaofan/pokemon-wiki-captions\")"
   ]
  },
  {
   "cell_type": "code",
   "execution_count": 2,
   "metadata": {},
   "outputs": [
    {
     "data": {
      "text/plain": [
       "{'image': Image(mode=None, decode=True, id=None),\n",
       " 'name_en': Value(dtype='string', id=None),\n",
       " 'name_zh': Value(dtype='string', id=None),\n",
       " 'text_en': Value(dtype='string', id=None),\n",
       " 'text_zh': Value(dtype='string', id=None)}"
      ]
     },
     "execution_count": 2,
     "metadata": {},
     "output_type": "execute_result"
    }
   ],
   "source": [
    "dataset['train'].features"
   ]
  },
  {
   "cell_type": "code",
   "execution_count": 3,
   "metadata": {},
   "outputs": [],
   "source": [
    "import os\n",
    "from datasets import Dataset\n",
    "import PIL.Image as Image\n",
    "\n",
    "def save_image_and_get_path(example, save_dir):\n",
    "    # Create a unique filename\n",
    "    filename = f\"{example['name_en']}_{hash(example['text_en'])}.png\"\n",
    "    filepath = os.path.join(save_dir, filename)\n",
    "    \n",
    "    # Save the image\n",
    "    example['image'].save(filepath)\n",
    "    \n",
    "    # Add the filepath to the example\n",
    "    example['image_filepath'] = filepath\n",
    "    \n",
    "    return example\n",
    "\n",
    "def process_dataset(dataset, save_dir):\n",
    "    # Ensure the save directory exists\n",
    "    os.makedirs(save_dir, exist_ok=True)\n",
    "    \n",
    "    # Apply the save_image_and_get_path function to each example\n",
    "    return dataset.map(lambda example: save_image_and_get_path(example, save_dir))\n",
    "\n",
    "# Specify the directory where you want to save the images\n",
    "save_directory = \"./saved_images\"\n",
    "\n",
    "# Process the dataset\n",
    "processed_dataset = process_dataset(dataset, save_directory)"
   ]
  },
  {
   "cell_type": "code",
   "execution_count": 4,
   "metadata": {},
   "outputs": [
    {
     "data": {
      "text/plain": [
       "{'image': <PIL.PngImagePlugin.PngImageFile image mode=RGBA size=475x475>,\n",
       " 'name_en': 'abomasnow',\n",
       " 'name_zh': '暴雪王',\n",
       " 'text_en': 'Grass attributes,Blizzard King standing on two feet, with white fluff all over, lavender eyes, and a few long strips of fur covering its mouth',\n",
       " 'text_zh': '草属性，双脚站立的暴雪王，全身白色的绒毛，淡紫色的眼睛，几缕长条装的毛皮盖着它的嘴巴',\n",
       " 'image_filepath': './saved_images/abomasnow_2058735963577945329.png'}"
      ]
     },
     "execution_count": 4,
     "metadata": {},
     "output_type": "execute_result"
    }
   ],
   "source": [
    "processed_dataset['train'][0]"
   ]
  },
  {
   "cell_type": "code",
   "execution_count": 5,
   "metadata": {},
   "outputs": [
    {
     "data": {
      "text/html": [
       "<div>\n",
       "<style scoped>\n",
       "    .dataframe tbody tr th:only-of-type {\n",
       "        vertical-align: middle;\n",
       "    }\n",
       "\n",
       "    .dataframe tbody tr th {\n",
       "        vertical-align: top;\n",
       "    }\n",
       "\n",
       "    .dataframe thead th {\n",
       "        text-align: right;\n",
       "    }\n",
       "</style>\n",
       "<table border=\"1\" class=\"dataframe\">\n",
       "  <thead>\n",
       "    <tr style=\"text-align: right;\">\n",
       "      <th></th>\n",
       "      <th>name_en</th>\n",
       "      <th>name_zh</th>\n",
       "      <th>text_en</th>\n",
       "      <th>text_zh</th>\n",
       "      <th>image_filepath</th>\n",
       "    </tr>\n",
       "  </thead>\n",
       "  <tbody>\n",
       "    <tr>\n",
       "      <th>0</th>\n",
       "      <td>abomasnow</td>\n",
       "      <td>暴雪王</td>\n",
       "      <td>Grass attributes,Blizzard King standing on two...</td>\n",
       "      <td>草属性，双脚站立的暴雪王，全身白色的绒毛，淡紫色的眼睛，几缕长条装的毛皮盖着它的嘴巴</td>\n",
       "      <td>./saved_images/abomasnow_2058735963577945329.png</td>\n",
       "    </tr>\n",
       "    <tr>\n",
       "      <th>1</th>\n",
       "      <td>abra</td>\n",
       "      <td>凯西</td>\n",
       "      <td>Super power attributes, the whole body is yell...</td>\n",
       "      <td>超能力属性，通体黄色，头部外形类似狐狸，尖尖鼻子，手和脚上都有三个指头，长尾巴末端带着一个褐色圆环</td>\n",
       "      <td>./saved_images/abra_5265223410023725368.png</td>\n",
       "    </tr>\n",
       "    <tr>\n",
       "      <th>2</th>\n",
       "      <td>absol</td>\n",
       "      <td>阿勃梭鲁</td>\n",
       "      <td>Evil attribute, with white hair, blue-gray par...</td>\n",
       "      <td>恶属性，有白色毛发，没毛发的部分是蓝灰色，头右边类似弓的角，红色眼睛</td>\n",
       "      <td>./saved_images/absol_-8493509098281981613.png</td>\n",
       "    </tr>\n",
       "    <tr>\n",
       "      <th>3</th>\n",
       "      <td>accelgor</td>\n",
       "      <td>敏捷虫</td>\n",
       "      <td>Insect attributes,upright agile insects, the w...</td>\n",
       "      <td>虫属性，直立型的敏捷虫，全身被粘膜包裹着，脖子下是灰色，头部有一个四角星形状，背后有眼神出去的带子</td>\n",
       "      <td>./saved_images/accelgor_-4254867256317794903.png</td>\n",
       "    </tr>\n",
       "    <tr>\n",
       "      <th>4</th>\n",
       "      <td>aegislash-shield</td>\n",
       "      <td>坚盾剑怪</td>\n",
       "      <td>Steel attribute, huge sword body, hilt, sword ...</td>\n",
       "      <td>钢属性，巨大的剑身，剑柄，剑镡，和金黄色剑脊，深紫色眼睛和手掌，黑色手臂，锯齿状剑锋</td>\n",
       "      <td>./saved_images/aegislash-shield_-9192879603048...</td>\n",
       "    </tr>\n",
       "    <tr>\n",
       "      <th>...</th>\n",
       "      <td>...</td>\n",
       "      <td>...</td>\n",
       "      <td>...</td>\n",
       "      <td>...</td>\n",
       "      <td>...</td>\n",
       "    </tr>\n",
       "    <tr>\n",
       "      <th>893</th>\n",
       "      <td>zoroark</td>\n",
       "      <td>索罗亚克</td>\n",
       "      <td>Evil attribute, looks like a gray fox, with a ...</td>\n",
       "      <td>恶属性，外形似灰色狐狸，头上深红色的鬃毛覆盖了后背，爪子、耳朵为红色，耳朵顶端为红色</td>\n",
       "      <td>./saved_images/zoroark_8540914901580778615.png</td>\n",
       "    </tr>\n",
       "    <tr>\n",
       "      <th>894</th>\n",
       "      <td>zorua</td>\n",
       "      <td>索罗亚</td>\n",
       "      <td>Pokémon of the evil attribute, similar in appe...</td>\n",
       "      <td>恶属性，外形类似狐狸崽的宝可梦，身体呈灰黑色，瞳孔呈淡蓝色，脖子上的毛为黑色</td>\n",
       "      <td>./saved_images/zorua_-6649027328925904559.png</td>\n",
       "    </tr>\n",
       "    <tr>\n",
       "      <th>895</th>\n",
       "      <td>zubat</td>\n",
       "      <td>超音蝠</td>\n",
       "      <td>It is poisonous and looks like a young bat. It...</td>\n",
       "      <td>毒属性，外形似幼年蝙蝠，通体深蓝色，耳蜗和翼膜是紫色的，没有双眼，四颗白色的牙，尾巴，呈V字形</td>\n",
       "      <td>./saved_images/zubat_6458686427071631846.png</td>\n",
       "    </tr>\n",
       "    <tr>\n",
       "      <th>896</th>\n",
       "      <td>zweilous</td>\n",
       "      <td>双首暴龙</td>\n",
       "      <td>Evil attribute, two heads, blue body, black fu...</td>\n",
       "      <td>恶属性，两个脑袋，身体为蓝色，前身有黑色的毛皮覆盖，背上有一对翅，头发覆盖了双眼</td>\n",
       "      <td>./saved_images/zweilous_-7595618527035249739.png</td>\n",
       "    </tr>\n",
       "    <tr>\n",
       "      <th>897</th>\n",
       "      <td>zygarde</td>\n",
       "      <td>基格尔德</td>\n",
       "      <td>Dragon attribute, looks like a cobra, with whi...</td>\n",
       "      <td>龙属性，外形似眼镜蛇，眼睛泛着白光的六边形，尾巴有五个分叉，头后有褶伞蜥似的黑色装饰</td>\n",
       "      <td>./saved_images/zygarde_8567030415099499058.png</td>\n",
       "    </tr>\n",
       "  </tbody>\n",
       "</table>\n",
       "<p>898 rows × 5 columns</p>\n",
       "</div>"
      ],
      "text/plain": [
       "              name_en name_zh  \\\n",
       "0           abomasnow     暴雪王   \n",
       "1                abra      凯西   \n",
       "2               absol    阿勃梭鲁   \n",
       "3            accelgor     敏捷虫   \n",
       "4    aegislash-shield    坚盾剑怪   \n",
       "..                ...     ...   \n",
       "893           zoroark    索罗亚克   \n",
       "894             zorua     索罗亚   \n",
       "895             zubat     超音蝠   \n",
       "896          zweilous    双首暴龙   \n",
       "897           zygarde    基格尔德   \n",
       "\n",
       "                                               text_en  \\\n",
       "0    Grass attributes,Blizzard King standing on two...   \n",
       "1    Super power attributes, the whole body is yell...   \n",
       "2    Evil attribute, with white hair, blue-gray par...   \n",
       "3    Insect attributes,upright agile insects, the w...   \n",
       "4    Steel attribute, huge sword body, hilt, sword ...   \n",
       "..                                                 ...   \n",
       "893  Evil attribute, looks like a gray fox, with a ...   \n",
       "894  Pokémon of the evil attribute, similar in appe...   \n",
       "895  It is poisonous and looks like a young bat. It...   \n",
       "896  Evil attribute, two heads, blue body, black fu...   \n",
       "897  Dragon attribute, looks like a cobra, with whi...   \n",
       "\n",
       "                                               text_zh  \\\n",
       "0           草属性，双脚站立的暴雪王，全身白色的绒毛，淡紫色的眼睛，几缕长条装的毛皮盖着它的嘴巴   \n",
       "1    超能力属性，通体黄色，头部外形类似狐狸，尖尖鼻子，手和脚上都有三个指头，长尾巴末端带着一个褐色圆环   \n",
       "2                   恶属性，有白色毛发，没毛发的部分是蓝灰色，头右边类似弓的角，红色眼睛   \n",
       "3    虫属性，直立型的敏捷虫，全身被粘膜包裹着，脖子下是灰色，头部有一个四角星形状，背后有眼神出去的带子   \n",
       "4           钢属性，巨大的剑身，剑柄，剑镡，和金黄色剑脊，深紫色眼睛和手掌，黑色手臂，锯齿状剑锋   \n",
       "..                                                 ...   \n",
       "893         恶属性，外形似灰色狐狸，头上深红色的鬃毛覆盖了后背，爪子、耳朵为红色，耳朵顶端为红色   \n",
       "894             恶属性，外形类似狐狸崽的宝可梦，身体呈灰黑色，瞳孔呈淡蓝色，脖子上的毛为黑色   \n",
       "895    毒属性，外形似幼年蝙蝠，通体深蓝色，耳蜗和翼膜是紫色的，没有双眼，四颗白色的牙，尾巴，呈V字形   \n",
       "896           恶属性，两个脑袋，身体为蓝色，前身有黑色的毛皮覆盖，背上有一对翅，头发覆盖了双眼   \n",
       "897         龙属性，外形似眼镜蛇，眼睛泛着白光的六边形，尾巴有五个分叉，头后有褶伞蜥似的黑色装饰   \n",
       "\n",
       "                                        image_filepath  \n",
       "0     ./saved_images/abomasnow_2058735963577945329.png  \n",
       "1          ./saved_images/abra_5265223410023725368.png  \n",
       "2        ./saved_images/absol_-8493509098281981613.png  \n",
       "3     ./saved_images/accelgor_-4254867256317794903.png  \n",
       "4    ./saved_images/aegislash-shield_-9192879603048...  \n",
       "..                                                 ...  \n",
       "893     ./saved_images/zoroark_8540914901580778615.png  \n",
       "894      ./saved_images/zorua_-6649027328925904559.png  \n",
       "895       ./saved_images/zubat_6458686427071631846.png  \n",
       "896   ./saved_images/zweilous_-7595618527035249739.png  \n",
       "897     ./saved_images/zygarde_8567030415099499058.png  \n",
       "\n",
       "[898 rows x 5 columns]"
      ]
     },
     "execution_count": 5,
     "metadata": {},
     "output_type": "execute_result"
    }
   ],
   "source": [
    "df = processed_dataset['train'].to_pandas()\n",
    "df = df.drop(columns=['image'])\n",
    "df"
   ]
  },
  {
   "cell_type": "code",
   "execution_count": 6,
   "metadata": {},
   "outputs": [],
   "source": [
    "from sqlalchemy import create_engine\n",
    "\n",
    "engine = create_engine('postgresql://pokemon_user@localhost:5432/pokemon_db')"
   ]
  },
  {
   "cell_type": "code",
   "execution_count": 7,
   "metadata": {},
   "outputs": [
    {
     "data": {
      "text/plain": [
       "898"
      ]
     },
     "execution_count": 7,
     "metadata": {},
     "output_type": "execute_result"
    }
   ],
   "source": [
    "df.to_sql('pokemons', engine, if_exists='replace', index=False)"
   ]
  },
  {
   "cell_type": "code",
   "execution_count": null,
   "metadata": {},
   "outputs": [],
   "source": []
  }
 ],
 "metadata": {
  "kernelspec": {
   "display_name": "postgresql-multimodal",
   "language": "python",
   "name": "python3"
  },
  "language_info": {
   "codemirror_mode": {
    "name": "ipython",
    "version": 3
   },
   "file_extension": ".py",
   "mimetype": "text/x-python",
   "name": "python",
   "nbconvert_exporter": "python",
   "pygments_lexer": "ipython3",
   "version": "3.10.14"
  }
 },
 "nbformat": 4,
 "nbformat_minor": 2
}
